{
  "cells": [
    {
      "cell_type": "code",
      "execution_count": 1,
      "metadata": {
        "id": "njR209Oz8KKY"
      },
      "outputs": [],
      "source": [
        "import numpy as np\n",
        "import matplotlib.pyplot as plt\n",
        "from sklearn.decomposition import PCA\n",
        "from sklearn.preprocessing import StandardScaler"
      ]
    },
    {
      "cell_type": "code",
      "execution_count": 2,
      "metadata": {
        "id": "Tq5RRa3c8Zuj"
      },
      "outputs": [],
      "source": [
        "#step 1\n",
        "x=np.array([\n",
        "    [2,5,2,4], [0,5,0,7], [2,2,2,9], [1,9,2,2], [3,1,3,0], [2,3,2,7], [2,0,1,6], [1,0,1,1], [1,5,1,6], [1,1,0,9]])"
      ]
    },
    {
      "cell_type": "code",
      "execution_count": 3,
      "metadata": {
        "id": "6nkqjU8S8bpy"
      },
      "outputs": [],
      "source": [
        "#step 2\n",
        "'''\n",
        "StandardScaler transforms each feature so that:\n",
        "z = (x-mean)/sd\n",
        "\n",
        "Mean becomes 0 for each feature.\n",
        "Standard deviation becomes 1 for each feature.\n",
        "fit_transform:\n",
        "fit() → calculates mean and std for each feature.\n",
        "transform() → applies standardization to all data points.\n",
        "After this, X_scaled contains the standardized data.'''\n",
        "scaler=StandardScaler()\n",
        "X_scaled=scaler.fit_transform(x)"
      ]
    },
    {
      "cell_type": "code",
      "execution_count": 4,
      "metadata": {
        "id": "dE1UIfvA8iPf"
      },
      "outputs": [],
      "source": [
        "#step 3\n",
        "# Runs PCA to reduce dimensions from 4 → 2 while preserving as much variance as possible.\n",
        "pca=PCA(n_components=2) #keep both components to see full effect\n",
        "X_pca=pca.fit_transform(X_scaled)"
      ]
    },
    {
      "cell_type": "code",
      "execution_count": 5,
      "metadata": {
        "colab": {
          "base_uri": "https://localhost:8080/"
        },
        "id": "565WtmhN8jKg",
        "outputId": "53e78f7f-8719-45fc-8239-31206405661f"
      },
      "outputs": [
        {
          "name": "stdout",
          "output_type": "stream",
          "text": [
            "explained variance ratio:  [0.52732325 0.30211796]\n"
          ]
        }
      ],
      "source": [
        "#step 4\n",
        "print(\"explained variance ratio: \", pca.explained_variance_ratio_)"
      ]
    }
  ],
  "metadata": {
    "colab": {
      "provenance": []
    },
    "kernelspec": {
      "display_name": "Python 3",
      "name": "python3"
    },
    "language_info": {
      "name": "python"
    }
  },
  "nbformat": 4,
  "nbformat_minor": 0
}
