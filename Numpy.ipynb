{
  "cells": [
    {
      "cell_type": "code",
      "execution_count": 5,
      "metadata": {
        "id": "-DSznragt_4G"
      },
      "outputs": [],
      "source": [
        "import numpy as np"
      ]
    },
    {
      "cell_type": "code",
      "execution_count": 6,
      "metadata": {
        "colab": {
          "base_uri": "https://localhost:8080/"
        },
        "id": "fZzCOgAloYcO",
        "outputId": "21a7c67d-f553-4215-dde1-92e09dd79223"
      },
      "outputs": [
        {
          "name": "stdout",
          "output_type": "stream",
          "text": [
            "[1 2 3 4 5 6]\n"
          ]
        }
      ],
      "source": [
        "arr1 = np.array([1, 2, 3])\n",
        "arr2 = np.array([4, 5, 6])\n",
        "arr = np.hstack((arr1, arr2))\n",
        "print(arr)"
      ]
    },
    {
      "cell_type": "code",
      "execution_count": 7,
      "metadata": {
        "colab": {
          "base_uri": "https://localhost:8080/"
        },
        "id": "OIcwNywfy4-L",
        "outputId": "c55d8668-8ef0-4eac-ed6f-b8dcecf115be"
      },
      "outputs": [
        {
          "name": "stdout",
          "output_type": "stream",
          "text": [
            "(array([0, 2, 4, 6]),)\n"
          ]
        }
      ],
      "source": [
        "arr = np.array([1, 2, 3, 4, 5, 6, 7, 8])\n",
        "x = np.where(arr%2 == 1)\n",
        "print(x)"
      ]
    },
    {
      "cell_type": "markdown",
      "metadata": {
        "id": "TvmBM-RYz5Gx"
      },
      "source": [
        "ASSIGNMENT"
      ]
    },
    {
      "cell_type": "code",
      "execution_count": 18,
      "metadata": {
        "colab": {
          "base_uri": "https://localhost:8080/"
        },
        "id": "WxlgA7rdy42_",
        "outputId": "d38ae450-f2ef-49bf-8ab7-c42f7efd2d34"
      },
      "outputs": [
        {
          "name": "stdout",
          "output_type": "stream",
          "text": [
            "('aman', '222', 777, 400.4)\n",
            "dict_keys(['First Name', 'RollNo', 'Last Name', 'dob'])\n",
            "dict_values(['Sanjana', 'CB.SC.U4CSE23751', 'V', '21-02-2005'])\n",
            "[[0.5488135  0.71518937 0.60276338]\n",
            " [0.54488318 0.4236548  0.64589411]]\n",
            "0.4375872112626925\n",
            "1234\n",
            "32\n"
          ]
        }
      ],
      "source": [
        "# 1.\tGenerate a tuple from the set\n",
        "sets = [\"aman\", \"222\", 777, 400.4]\n",
        "t = tuple(sets)\n",
        "print(t)\n",
        "# 2.Create a dictionary of your basic data : (a) Roll No (b) Last Name (c) First Name (d) Date of birth.\n",
        "#Print out the values and keys.\n",
        "d = {'First Name':'Sanjana','RollNo':'CB.SC.U4CSE23751','Last Name':'V','dob':'21-02-2005'}\n",
        "print(d.keys())\n",
        "print(d.values())\n",
        "# 3.\tUse rand function to generate a 2-dimensional random array with seed.\n",
        "'''from numpy import random\n",
        "arr = random.randint(100,size=(2,3))\n",
        "print(arr)'''\n",
        "from numpy import random\n",
        "np.random.seed(0)\n",
        "arr = np.random.rand(2,3)\n",
        "print(arr)\n",
        "# 4.Generate a single random number in [0.0, 1.0]. Find the absolute value of (-1234)\n",
        "x = random.rand()\n",
        "print(x)\n",
        "print(abs(-1234))\n",
        "# 5.\tReturn a random integer N such that 20 <= N <= 90.\n",
        "x = random.randint(20,90)\n",
        "print(x)"
      ]
    },
    {
      "cell_type": "code",
      "execution_count": 37,
      "metadata": {
        "colab": {
          "base_uri": "https://localhost:8080/"
        },
        "id": "SfICbpH02p77",
        "outputId": "e07c430d-2dbd-49be-ff9e-81d5ff9a20ff"
      },
      "outputs": [
        {
          "name": "stdout",
          "output_type": "stream",
          "text": [
            "[12, 13, 14]\n",
            "[15, 13, 14, 12, 11]\n",
            "15\n",
            "[1. 4. 5. 8.]\n",
            "[4. 5.]\n"
          ]
        }
      ],
      "source": [
        "import random\n",
        "# 6.\tGiven a population or set[11, 12, 13,14, 15]\n",
        "# o\tReturn a 3 length list of unique elements without replacement.\n",
        "population = [11,12, 13,14,15]\n",
        "arr = random.sample(population,3)\n",
        "print(arr)\n",
        "# o\tShuffle the above set\n",
        "arr2  = population.copy()\n",
        "random.shuffle(arr2)\n",
        "print(arr2)\n",
        "# o\tPrint a random number from the set\n",
        "x = random.choice(population)\n",
        "print(x)\n",
        "'''7.\tWrite the text \"The King is Dead, Long Live The King\" on to a file in your hard drive; read and print the text.\n",
        "8.\tCreate an illustrative function to demonstrate use of: (a) if, elif and else (b) for, while, break and continue.\n",
        "9.\tGiven a string \"The King is Dead, Long Live The King\"\n",
        "o\tPrint the complete string\n",
        "o\tPrint first character of the string\n",
        "o\tPrint characters starting from 3rd to 5th\n",
        "o\tPrint string starting from 3rd character\n",
        "o\tSplit the words'''\n",
        "# 10.\tAn array can be created from a list:  Create an array from a list comprising of numbers 1,4,5,8 (treat them as floats).\n",
        "# Slice the above array to display first and second elements\n",
        "arr = np.array([1,4,5,8],dtype='f')\n",
        "print(arr)\n",
        "print(arr[1:3])"
      ]
    },
    {
      "cell_type": "code",
      "execution_count": 52,
      "metadata": {
        "colab": {
          "base_uri": "https://localhost:8080/"
        },
        "id": "oNGTRBSR7JA_",
        "outputId": "c5eb810f-7b99-4916-d181-1d6863eef07d"
      },
      "outputs": [
        {
          "name": "stdout",
          "output_type": "stream",
          "text": [
            "[4 5 6]\n",
            "[2 5]\n",
            "2\n",
            "[[ 1  3  5  7  9]\n",
            " [ 2  4  6  8 10]]\n"
          ]
        },
        {
          "data": {
            "text/plain": [
              "array([9, 9, 9])"
            ]
          },
          "execution_count": 52,
          "metadata": {},
          "output_type": "execute_result"
        }
      ],
      "source": [
        "# 11.\tArrays can be multidimensional. Create a two-dimensional array of (1,2,3) and (4,5,6).\n",
        "arr = np.array([[1,2,3],[4,5,6]])\n",
        "# 12.\tArray slicing works with multiple dimensions in the same way as usual, applying each slice specification\n",
        "# as a filter to a specified dimension. Consider two-dimensional array of (1,2,3) and (4,5,6).\n",
        "# o\tSlice and display the 2nd row.\n",
        "row2 = arr[1]\n",
        "print(row2)\n",
        "# o\tWrite code to display as array([2., 5.])\n",
        "arr1 = np.array(arr[:,1])\n",
        "print(arr1)\n",
        "# o\tFind the length of the array.\n",
        "print(len(arr))\n",
        "# 13.\tArrays can be reshaped using tuples that specify new dimensions.\n",
        "#Turn a ten-element one-dimensional array into a two-dimensional one whose first axis has\n",
        "#five elements and whose second axis has two elements. Obtain the transpose of the array\n",
        "arr = np.array([1,2,3,4,5,6,7,8,9,10])\n",
        "new_arr = arr.reshape(5,2)\n",
        "print(new_arr.T)\n",
        "# 14.\tCreate an array from a list of 1,2 and 3.\n",
        "arr1 = np.array([1,2,3])\n",
        "# 15.\tFill an array [1,2,3] with a single value [9,9,9].\n",
        "new = np.full_like(arr1,9)\n",
        "print(new)"
      ]
    },
    {
      "cell_type": "code",
      "execution_count": 61,
      "metadata": {
        "colab": {
          "base_uri": "https://localhost:8080/"
        },
        "id": "Qt_mUoGB-RNB",
        "outputId": "1d0eb58f-a7a2-4598-a577-9bdeb511c9c6"
      },
      "outputs": [
        {
          "name": "stdout",
          "output_type": "stream",
          "text": [
            "11\n",
            "427350\n",
            "12.461538461538462\n",
            "2.0\n",
            "19.165736192147232\n",
            "1\n",
            "1\n",
            "56\n",
            "367.32544378698225\n",
            "\n",
            "[1 4 5 7]\n",
            "5\n",
            "Eigenvalues: [-0.37228132  5.37228132]\n",
            "Eigenvectors:\n",
            " [[-0.82456484 -0.41597356]\n",
            " [ 0.56576746 -0.90937671]]\n",
            "Correlation Coefficients:\n",
            " [[1.         0.15997968]\n",
            " [0.15997968 1.        ]]\n"
          ]
        }
      ],
      "source": [
        "# 1.\tSum the elements of array [2,4,5].\n",
        "print(np.sum([2,4,5]))\n",
        "# 2.\tGive the products of array [77,74,75]\n",
        "print(np.prod([77,74,75]))\n",
        "# 3.\tGiven an array [2,1,9,1,2,22,1,1,4,55,6,2,56]. Find mean, variance, max, min, argmin, median, argmax and standard deviation.\n",
        "print(np.mean([2,1,9,1,2,22,1,1,4,55,6,2,56]))\n",
        "print(np.median([2,1,9,1,2,22,1,1,4,55,6,2,56]))\n",
        "print(np.std([2,1,9,1,2,22,1,1,4,55,6,2,56]))\n",
        "print(np.argmin([2,1,9,1,2,22,1,1,4,55,6,2,56]))\n",
        "print(np.min([2,1,9,1,2,22,1,1,4,55,6,2,56]))\n",
        "print(np.max([2,1,9,1,2,22,1,1,4,55,6,2,56]))\n",
        "print(np.var([2,1,9,1,2,22,1,1,4,55,6,2,56]))\n",
        "print()\n",
        "# 4.\tExtract unique elements from an array: [1, 1, 4, 5, 5, 5, 7] and sort it.\n",
        "print(np.unique([1, 1, 4, 5, 5, 5, 7] ))\n",
        "# 5.\tFind dot product of two arrays [1, 2, 3]and [0, 1, 1].\n",
        "a = [1,2,3]\n",
        "b = [0,1,1]\n",
        "print(np.dot(a,b))\n",
        "# 6.\tFind the eigenvalues and eigenvectors of matrix A.\n",
        "A = np.array([[1, 2], [3, 4]])\n",
        "eigenvalues, eigenvectors = np.linalg.eig(A)\n",
        "print(\"Eigenvalues:\", eigenvalues)\n",
        "print(\"Eigenvectors:\\n\", eigenvectors)\n",
        "# 7.\tGiven an array with [11, 22, 11, 31], [25, 33, 31, 28]]. Treat as floats.\n",
        "# Find the correlation coefficients.\n",
        "data = np.array([[11, 22, 11, 31], [25, 33, 31, 28]], dtype=float)\n",
        "correlation_matrix = np.corrcoef(data)\n",
        "print(\"Correlation Coefficients:\\n\", correlation_matrix)\n"
      ]
    }
  ],
  "metadata": {
    "colab": {
      "provenance": []
    },
    "kernelspec": {
      "display_name": "Python 3",
      "name": "python3"
    },
    "language_info": {
      "name": "python"
    }
  },
  "nbformat": 4,
  "nbformat_minor": 0
}
